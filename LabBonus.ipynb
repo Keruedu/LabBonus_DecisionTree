{
 "cells": [
  {
   "cell_type": "markdown",
   "metadata": {},
   "source": [
    "# Importing Libraries\n",
    "Import necessary libraries including pandas, numpy, sklearn, matplotlib, seaborn, and graphviz."
   ]
  },
  {
   "cell_type": "code",
   "execution_count": 1,
   "metadata": {},
   "outputs": [
    {
     "name": "stdout",
     "output_type": "stream",
     "text": [
      "Requirement already satisfied: pandas in c:\\laragon\\bin\\python\\python-3.10\\lib\\site-packages (2.2.3)\n",
      "Requirement already satisfied: numpy in c:\\laragon\\bin\\python\\python-3.10\\lib\\site-packages (2.1.2)\n",
      "Requirement already satisfied: scikit-learn in c:\\laragon\\bin\\python\\python-3.10\\lib\\site-packages (1.6.0)\n",
      "Requirement already satisfied: matplotlib in c:\\laragon\\bin\\python\\python-3.10\\lib\\site-packages (3.9.2)\n",
      "Requirement already satisfied: seaborn in c:\\laragon\\bin\\python\\python-3.10\\lib\\site-packages (0.13.2)\n",
      "Requirement already satisfied: graphviz in c:\\laragon\\bin\\python\\python-3.10\\lib\\site-packages (0.20.3)\n",
      "Requirement already satisfied: python-dateutil>=2.8.2 in c:\\laragon\\bin\\python\\python-3.10\\lib\\site-packages (from pandas) (2.9.0.post0)\n",
      "Requirement already satisfied: pytz>=2020.1 in c:\\laragon\\bin\\python\\python-3.10\\lib\\site-packages (from pandas) (2024.2)\n",
      "Requirement already satisfied: tzdata>=2022.7 in c:\\laragon\\bin\\python\\python-3.10\\lib\\site-packages (from pandas) (2024.2)\n",
      "Requirement already satisfied: scipy>=1.6.0 in c:\\laragon\\bin\\python\\python-3.10\\lib\\site-packages (from scikit-learn) (1.14.1)\n",
      "Requirement already satisfied: joblib>=1.2.0 in c:\\laragon\\bin\\python\\python-3.10\\lib\\site-packages (from scikit-learn) (1.4.2)\n",
      "Requirement already satisfied: threadpoolctl>=3.1.0 in c:\\laragon\\bin\\python\\python-3.10\\lib\\site-packages (from scikit-learn) (3.5.0)\n",
      "Requirement already satisfied: contourpy>=1.0.1 in c:\\laragon\\bin\\python\\python-3.10\\lib\\site-packages (from matplotlib) (1.3.0)\n",
      "Requirement already satisfied: cycler>=0.10 in c:\\laragon\\bin\\python\\python-3.10\\lib\\site-packages (from matplotlib) (0.12.1)\n",
      "Requirement already satisfied: fonttools>=4.22.0 in c:\\laragon\\bin\\python\\python-3.10\\lib\\site-packages (from matplotlib) (4.54.1)\n",
      "Requirement already satisfied: kiwisolver>=1.3.1 in c:\\laragon\\bin\\python\\python-3.10\\lib\\site-packages (from matplotlib) (1.4.7)\n",
      "Requirement already satisfied: packaging>=20.0 in c:\\laragon\\bin\\python\\python-3.10\\lib\\site-packages (from matplotlib) (24.1)\n",
      "Requirement already satisfied: pillow>=8 in c:\\laragon\\bin\\python\\python-3.10\\lib\\site-packages (from matplotlib) (11.0.0)\n",
      "Requirement already satisfied: pyparsing>=2.3.1 in c:\\laragon\\bin\\python\\python-3.10\\lib\\site-packages (from matplotlib) (3.2.0)\n",
      "Requirement already satisfied: six>=1.5 in c:\\laragon\\bin\\python\\python-3.10\\lib\\site-packages (from python-dateutil>=2.8.2->pandas) (1.16.0)\n"
     ]
    }
   ],
   "source": [
    "# Install necessary libraries\n",
    "!pip install pandas numpy scikit-learn matplotlib seaborn graphviz"
   ]
  },
  {
   "cell_type": "code",
   "execution_count": null,
   "metadata": {},
   "outputs": [],
   "source": [
    "# Import necessary libraries\n",
    "import pandas as pd\n",
    "import numpy as np\n",
    "from sklearn.model_selection import train_test_split\n",
    "from sklearn.tree import DecisionTreeClassifier, export_graphviz\n",
    "from sklearn.metrics import classification_report, confusion_matrix, accuracy_score\n",
    "import matplotlib.pyplot as plt\n",
    "import seaborn as sns\n",
    "from IPython.display import Image\n",
    "import graphviz"
   ]
  },
  {
   "cell_type": "markdown",
   "metadata": {},
   "source": [
    "# Loading the Dataset\n",
    "Load the UCI Breast Cancer Wisconsin dataset, drop the ID column, and convert the Diagnosis column to binary."
   ]
  },
  {
   "cell_type": "code",
   "execution_count": null,
   "metadata": {},
   "outputs": [],
   "source": [
    "# Load the dataset\n",
    "url = \"https://archive.ics.uci.edu/ml/machine-learning-databases/breast-cancer-wisconsin/wdbc.data\"\n",
    "columns = [\"ID\", \"Diagnosis\"] + [f\"Feature_{i}\" for i in range(1, 31)]\n",
    "df = pd.read_csv(url, header=None, names=columns)\n",
    "\n",
    "# Drop the ID column\n",
    "df.drop(\"ID\", axis=1, inplace=True)\n",
    "\n",
    "# Convert Diagnosis column to binary\n",
    "df[\"Diagnosis\"] = df[\"Diagnosis\"].map({\"M\": 1, \"B\": 0})"
   ]
  },
  {
   "cell_type": "markdown",
   "metadata": {},
   "source": [
    "# Exploratory Data Analysis (EDA)\n",
    "Visualize the distribution of the target variable (Diagnosis) to ensure class balance."
   ]
  },
  {
   "cell_type": "code",
   "execution_count": null,
   "metadata": {},
   "outputs": [],
   "source": [
    "# Visualize class distribution\n",
    "sns.countplot(x=df[\"Diagnosis\"])\n",
    "plt.title(\"Distribution of Classes\")\n",
    "plt.show()"
   ]
  },
  {
   "cell_type": "markdown",
   "metadata": {},
   "source": [
    "# Splitting the Dataset\n",
    "Stratify the dataset into training and testing subsets for different proportions (e.g., 80/20, 70/30)."
   ]
  },
  {
   "cell_type": "code",
   "execution_count": null,
   "metadata": {},
   "outputs": [],
   "source": [
    "# Define features and labels\n",
    "X = df.drop(\"Diagnosis\", axis=1)\n",
    "y = df[\"Diagnosis\"]\n",
    "\n",
    "# Split the dataset into 80/20 train/test\n",
    "X_train, X_test, y_train, y_test = train_test_split(X, y, test_size=0.2, stratify=y, random_state=42)"
   ]
  },
  {
   "cell_type": "markdown",
   "metadata": {},
   "source": [
    "# Training the Decision Tree Classifier\n",
    "Train the DecisionTreeClassifier using the Gini impurity as the splitting criterion."
   ]
  },
  {
   "cell_type": "code",
   "execution_count": null,
   "metadata": {},
   "outputs": [],
   "source": [
    "# Initialize and train the Decision Tree Classifier\n",
    "clf = DecisionTreeClassifier(criterion=\"gini\", max_depth=3, random_state=42)\n",
    "clf.fit(X_train, y_train)"
   ]
  },
  {
   "cell_type": "markdown",
   "metadata": {},
   "source": [
    "# Visualizing the Decision Tree\n",
    "Use Graphviz to visualize the tree structure."
   ]
  },
  {
   "cell_type": "code",
   "execution_count": null,
   "metadata": {},
   "outputs": [],
   "source": [
    "# Visualize the decision tree\n",
    "export_graphviz(clf, out_file=\"tree.dot\", feature_names=X.columns, class_names=[\"Benign\", \"Malignant\"], filled=True)\n",
    "with open(\"tree.dot\") as f:\n",
    "    dot_graph = f.read()\n",
    "graphviz.Source(dot_graph)"
   ]
  },
  {
   "cell_type": "markdown",
   "metadata": {},
   "source": [
    "# Evaluating the Model\n",
    "Evaluate the trained model using metrics like accuracy, classification report, and confusion matrix."
   ]
  },
  {
   "cell_type": "code",
   "execution_count": null,
   "metadata": {},
   "outputs": [],
   "source": [
    "# Predictions\n",
    "y_pred = clf.predict(X_test)\n",
    "\n",
    "# Confusion Matrix\n",
    "cm = confusion_matrix(y_test, y_pred)\n",
    "sns.heatmap(cm, annot=True, fmt=\"d\", cmap=\"Blues\", xticklabels=[\"Benign\", \"Malignant\"], yticklabels=[\"Benign\", \"Malignant\"])\n",
    "plt.title(\"Confusion Matrix\")\n",
    "plt.ylabel(\"True Label\")\n",
    "plt.xlabel(\"Predicted Label\")\n",
    "plt.show()\n",
    "\n",
    "# Classification Report\n",
    "print(\"Classification Report:\")\n",
    "print(classification_report(y_test, y_pred))\n",
    "\n",
    "# Accuracy\n",
    "accuracy = accuracy_score(y_test, y_pred)\n",
    "print(f\"Accuracy: {accuracy:.2f}\")"
   ]
  },
  {
   "cell_type": "markdown",
   "metadata": {},
   "source": [
    "# Analyzing the Effect of Tree Depth\n",
    "Study how varying the max_depth parameter impacts accuracy."
   ]
  },
  {
   "cell_type": "code",
   "execution_count": null,
   "metadata": {},
   "outputs": [],
   "source": [
    "# Test varying tree depths\n",
    "depths = [None, 2, 3, 4, 5, 6, 7]\n",
    "accuracy_scores = []\n",
    "\n",
    "for depth in depths:\n",
    "    clf = DecisionTreeClassifier(max_depth=depth, random_state=42)\n",
    "    clf.fit(X_train, y_train)\n",
    "    y_pred = clf.predict(X_test)\n",
    "    accuracy_scores.append(accuracy_score(y_test, y_pred))\n",
    "\n",
    "# Plot accuracy vs. tree depth\n",
    "plt.plot(depths, accuracy_scores, marker=\"o\")\n",
    "plt.title(\"Effect of Tree Depth on Accuracy\")\n",
    "plt.xlabel(\"Tree Depth\")\n",
    "plt.ylabel(\"Accuracy\")\n",
    "plt.show()"
   ]
  },
  {
   "cell_type": "markdown",
   "metadata": {},
   "source": [
    "# Extending to Other Datasets\n",
    "Repeat the above steps for the Wine Quality dataset and an additional dataset of your choice."
   ]
  },
  {
   "cell_type": "code",
   "execution_count": null,
   "metadata": {},
   "outputs": [],
   "source": [
    "# Load the Wine Quality dataset\n",
    "wine_url = \"https://archive.ics.uci.edu/ml/machine-learning-databases/wine-quality/winequality-red.csv\"\n",
    "wine_df = pd.read_csv(wine_url, delimiter=';')\n",
    "\n",
    "# Group wine quality into Low, Standard, and High\n",
    "wine_df['quality'] = wine_df['quality'].apply(lambda x: 'Low' if x <= 4 else 'Standard' if x <= 6 else 'High')\n",
    "\n",
    "# Visualize class distribution\n",
    "sns.countplot(x=wine_df[\"quality\"])\n",
    "plt.title(\"Distribution of Wine Quality Classes\")\n",
    "plt.show()\n",
    "\n",
    "# Define features and labels\n",
    "X_wine = wine_df.drop(\"quality\", axis=1)\n",
    "y_wine = wine_df[\"quality\"]\n",
    "\n",
    "# Split the dataset into 80/20 train/test\n",
    "X_train_wine, X_test_wine, y_train_wine, y_test_wine = train_test_split(X_wine, y_wine, test_size=0.2, stratify=y_wine, random_state=42)\n",
    "\n",
    "# Initialize and train the Decision Tree Classifier\n",
    "clf_wine = DecisionTreeClassifier(criterion=\"gini\", max_depth=3, random_state=42)\n",
    "clf_wine.fit(X_train_wine, y_train_wine)\n",
    "\n",
    "# Visualize the decision tree\n",
    "export_graphviz(clf_wine, out_file=\"wine_tree.dot\", feature_names=X_wine.columns, class_names=clf_wine.classes_, filled=True)\n",
    "with open(\"wine_tree.dot\") as f:\n",
    "    dot_graph_wine = f.read()\n",
    "graphviz.Source(dot_graph_wine)\n",
    "\n",
    "# Predictions\n",
    "y_pred_wine = clf_wine.predict(X_test_wine)\n",
    "\n",
    "# Confusion Matrix\n",
    "cm_wine = confusion_matrix(y_test_wine, y_pred_wine)\n",
    "sns.heatmap(cm_wine, annot=True, fmt=\"d\", cmap=\"Blues\", xticklabels=clf_wine.classes_, yticklabels=clf_wine.classes_)\n",
    "plt.title(\"Confusion Matrix for Wine Quality\")\n",
    "plt.ylabel(\"True Label\")\n",
    "plt.xlabel(\"Predicted Label\")\n",
    "plt.show()\n",
    "\n",
    "# Classification Report\n",
    "print(\"Classification Report for Wine Quality:\")\n",
    "print(classification_report(y_test_wine, y_pred_wine))\n",
    "\n",
    "# Accuracy\n",
    "accuracy_wine = accuracy_score(y_test_wine, y_pred_wine)\n",
    "print(f\"Accuracy for Wine Quality: {accuracy_wine:.2f}\")\n",
    "\n",
    "# Test varying tree depths\n",
    "depths_wine = [None, 2, 3, 4, 5, 6, 7]\n",
    "accuracy_scores_wine = []\n",
    "\n",
    "for depth in depths_wine:\n",
    "    clf_wine = DecisionTreeClassifier(max_depth=depth, random_state=42)\n",
    "    clf_wine.fit(X_train_wine, y_train_wine)\n",
    "    y_pred_wine = clf_wine.predict(X_test_wine)\n",
    "    accuracy_scores_wine.append(accuracy_score(y_test_wine, y_pred_wine))\n",
    "\n",
    "# Plot accuracy vs. tree depth\n",
    "plt.plot(depths_wine, accuracy_scores_wine, marker=\"o\")\n",
    "plt.title(\"Effect of Tree Depth on Accuracy for Wine Quality\")\n",
    "plt.xlabel(\"Tree Depth\")\n",
    "plt.ylabel(\"Accuracy\")\n",
    "plt.show()\n",
    "\n",
    "# Load an additional dataset of your choice\n",
    "# Example: Iris dataset\n",
    "iris_url = \"https://archive.ics.uci.edu/ml/machine-learning-databases/iris/iris.data\"\n",
    "iris_columns = [\"sepal_length\", \"sepal_width\", \"petal_length\", \"petal_width\", \"class\"]\n",
    "iris_df = pd.read_csv(iris_url, header=None, names=iris_columns)\n",
    "\n",
    "# Visualize class distribution\n",
    "sns.countplot(x=iris_df[\"class\"])\n",
    "plt.title(\"Distribution of Iris Classes\")\n",
    "plt.show()\n",
    "\n",
    "# Define features and labels\n",
    "X_iris = iris_df.drop(\"class\", axis=1)\n",
    "y_iris = iris_df[\"class\"]\n",
    "\n",
    "# Split the dataset into 80/20 train/test\n",
    "X_train_iris, X_test_iris, y_train_iris, y_test_iris = train_test_split(X_iris, y_iris, test_size=0.2, stratify=y_iris, random_state=42)\n",
    "\n",
    "# Initialize and train the Decision Tree Classifier\n",
    "clf_iris = DecisionTreeClassifier(criterion=\"gini\", max_depth=3, random_state=42)\n",
    "clf_iris.fit(X_train_iris, y_train_iris)\n",
    "\n",
    "# Visualize the decision tree\n",
    "export_graphviz(clf_iris, out_file=\"iris_tree.dot\", feature_names=X_iris.columns, class_names=clf_iris.classes_, filled=True)\n",
    "with open(\"iris_tree.dot\") as f:\n",
    "    dot_graph_iris = f.read()\n",
    "graphviz.Source(dot_graph_iris)\n",
    "\n",
    "# Predictions\n",
    "y_pred_iris = clf_iris.predict(X_test_iris)\n",
    "\n",
    "# Confusion Matrix\n",
    "cm_iris = confusion_matrix(y_test_iris, y_pred_iris)\n",
    "sns.heatmap(cm_iris, annot=True, fmt=\"d\", cmap=\"Blues\", xticklabels=clf_iris.classes_, yticklabels=clf_iris.classes_)\n",
    "plt.title(\"Confusion Matrix for Iris\")\n",
    "plt.ylabel(\"True Label\")\n",
    "plt.xlabel(\"Predicted Label\")\n",
    "plt.show()\n",
    "\n",
    "# Classification Report\n",
    "print(\"Classification Report for Iris:\")\n",
    "print(classification_report(y_test_iris, y_pred_iris))\n",
    "\n",
    "# Accuracy\n",
    "accuracy_iris = accuracy_score(y_test_iris, y_pred_iris)\n",
    "print(f\"Accuracy for Iris: {accuracy_iris:.2f}\")\n",
    "\n",
    "# Test varying tree depths\n",
    "depths_iris = [None, 2, 3, 4, 5, 6, 7]\n",
    "accuracy_scores_iris = []\n",
    "\n",
    "for depth in depths_iris:\n",
    "    clf_iris = DecisionTreeClassifier(max_depth=depth, random_state=42)\n",
    "    clf_iris.fit(X_train_iris, y_train_iris)\n",
    "    y_pred_iris = clf_iris.predict(X_test_iris)\n",
    "    accuracy_scores_iris.append(accuracy_score(y_test_iris, y_pred_iris))\n",
    "\n",
    "# Plot accuracy vs. tree depth\n",
    "plt.plot(depths_iris, accuracy_scores_iris, marker=\"o\")\n",
    "plt.title(\"Effect of Tree Depth on Accuracy for Iris\")\n",
    "plt.xlabel(\"Tree Depth\")\n",
    "plt.ylabel(\"Accuracy\")\n",
    "plt.show()"
   ]
  }
 ],
 "metadata": {
  "kernelspec": {
   "display_name": "Python 3",
   "language": "python",
   "name": "python3"
  },
  "language_info": {
   "codemirror_mode": {
    "name": "ipython",
    "version": 3
   },
   "file_extension": ".py",
   "mimetype": "text/x-python",
   "name": "python",
   "nbconvert_exporter": "python",
   "pygments_lexer": "ipython3",
   "version": "3.12.1"
  }
 },
 "nbformat": 4,
 "nbformat_minor": 2
}
